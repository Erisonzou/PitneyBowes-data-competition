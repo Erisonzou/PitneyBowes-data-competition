{
  "cells": [
    {
      "cell_type": "code",
      "execution_count": 3,
      "metadata": {
        "id": "OmTk3LNDgZ7b"
      },
      "outputs": [],
      "source": [
        "#pandas library to create a dataframe out of the csv file\n",
        "import pandas as pd\n",
        "import numpy as np\n",
        "\n",
        "\n",
        "df = pd.read_csv(\"train.csv\")"
      ]
    },
    {
      "cell_type": "code",
      "execution_count": 4,
      "metadata": {
        "colab": {
          "base_uri": "https://localhost:8080/",
          "height": 299
        },
        "id": "aGtevXoCuD9p",
        "outputId": "85463f24-6136-4238-dc39-cc19364f0c6e"
      },
      "outputs": [
        {
          "output_type": "execute_result",
          "data": {
            "text/plain": [
              "   deviceid  avg_time_charging_lag1  avg_time_charging_lag2  \\\n",
              "2     16107                    5.51                    5.04   \n",
              "3     27362                    4.66                   39.85   \n",
              "4     19463                    5.10                   43.24   \n",
              "5     30054                   27.74                    5.12   \n",
              "6     26431                    4.67                    5.32   \n",
              "\n",
              "   avg_time_charging_lag3  avg_time_charging_lag7  charging_rate_lag3  \\\n",
              "2                    4.52                    5.96           -0.460000   \n",
              "3                   35.76                   40.69            0.076667   \n",
              "4                    4.63                    5.26            0.040000   \n",
              "5                   42.39                    5.46            0.076667   \n",
              "6                   23.99                    4.62            0.270000   \n",
              "\n",
              "   charging_rate_lag7  avg_time_discharging_lag1  avg_time_discharging_lag2  \\\n",
              "2           -0.083333                       5.13                       5.65   \n",
              "3           -0.006667                       3.93                      76.37   \n",
              "4           -0.153333                       4.69                      71.44   \n",
              "5           -0.020000                      45.90                       3.99   \n",
              "6           -0.010000                       3.56                       4.62   \n",
              "\n",
              "   avg_time_discharging_lag3  ...  total_off_time  number_times_restart  \\\n",
              "2                       4.14  ...        2.333333              4.095238   \n",
              "3                      60.86  ...       10.789474              0.736842   \n",
              "4                       3.80  ...       14.266667              1.133333   \n",
              "5                      75.64  ...       10.700000              2.150000   \n",
              "6                      18.57  ...       60.304348              1.956522   \n",
              "\n",
              "   avg_volt_change_charging  avg_volt_change_discharging  avg_time_charging  \\\n",
              "2                346.113333                   343.409524          13.675238   \n",
              "3                356.184211                   349.844737          16.306842   \n",
              "4                370.904000                   367.730000          18.797333   \n",
              "5                350.345500                   346.747500          12.878500   \n",
              "6                358.789130                   353.025652          17.384783   \n",
              "\n",
              "   avg_time_discharging  max_voltage_day  piececount  cycle_time  Day_Deployed  \n",
              "2             20.471429      4152.238095   19.200000   34.146667           518  \n",
              "3             26.189474      4164.631579   23.625000   42.496316           548  \n",
              "4             30.812000      4169.800000   12.666667   49.609333           566  \n",
              "5             19.621000      4151.600000    6.375000   32.499500           544  \n",
              "6             27.495217      4170.652174   20.500000   44.880000           566  \n",
              "\n",
              "[5 rows x 54 columns]"
            ],
            "text/html": [
              "\n",
              "  <div id=\"df-e96150e3-11cf-4852-80d4-caf8d15c3cd3\">\n",
              "    <div class=\"colab-df-container\">\n",
              "      <div>\n",
              "<style scoped>\n",
              "    .dataframe tbody tr th:only-of-type {\n",
              "        vertical-align: middle;\n",
              "    }\n",
              "\n",
              "    .dataframe tbody tr th {\n",
              "        vertical-align: top;\n",
              "    }\n",
              "\n",
              "    .dataframe thead th {\n",
              "        text-align: right;\n",
              "    }\n",
              "</style>\n",
              "<table border=\"1\" class=\"dataframe\">\n",
              "  <thead>\n",
              "    <tr style=\"text-align: right;\">\n",
              "      <th></th>\n",
              "      <th>deviceid</th>\n",
              "      <th>avg_time_charging_lag1</th>\n",
              "      <th>avg_time_charging_lag2</th>\n",
              "      <th>avg_time_charging_lag3</th>\n",
              "      <th>avg_time_charging_lag7</th>\n",
              "      <th>charging_rate_lag3</th>\n",
              "      <th>charging_rate_lag7</th>\n",
              "      <th>avg_time_discharging_lag1</th>\n",
              "      <th>avg_time_discharging_lag2</th>\n",
              "      <th>avg_time_discharging_lag3</th>\n",
              "      <th>...</th>\n",
              "      <th>total_off_time</th>\n",
              "      <th>number_times_restart</th>\n",
              "      <th>avg_volt_change_charging</th>\n",
              "      <th>avg_volt_change_discharging</th>\n",
              "      <th>avg_time_charging</th>\n",
              "      <th>avg_time_discharging</th>\n",
              "      <th>max_voltage_day</th>\n",
              "      <th>piececount</th>\n",
              "      <th>cycle_time</th>\n",
              "      <th>Day_Deployed</th>\n",
              "    </tr>\n",
              "  </thead>\n",
              "  <tbody>\n",
              "    <tr>\n",
              "      <th>2</th>\n",
              "      <td>16107</td>\n",
              "      <td>5.51</td>\n",
              "      <td>5.04</td>\n",
              "      <td>4.52</td>\n",
              "      <td>5.96</td>\n",
              "      <td>-0.460000</td>\n",
              "      <td>-0.083333</td>\n",
              "      <td>5.13</td>\n",
              "      <td>5.65</td>\n",
              "      <td>4.14</td>\n",
              "      <td>...</td>\n",
              "      <td>2.333333</td>\n",
              "      <td>4.095238</td>\n",
              "      <td>346.113333</td>\n",
              "      <td>343.409524</td>\n",
              "      <td>13.675238</td>\n",
              "      <td>20.471429</td>\n",
              "      <td>4152.238095</td>\n",
              "      <td>19.200000</td>\n",
              "      <td>34.146667</td>\n",
              "      <td>518</td>\n",
              "    </tr>\n",
              "    <tr>\n",
              "      <th>3</th>\n",
              "      <td>27362</td>\n",
              "      <td>4.66</td>\n",
              "      <td>39.85</td>\n",
              "      <td>35.76</td>\n",
              "      <td>40.69</td>\n",
              "      <td>0.076667</td>\n",
              "      <td>-0.006667</td>\n",
              "      <td>3.93</td>\n",
              "      <td>76.37</td>\n",
              "      <td>60.86</td>\n",
              "      <td>...</td>\n",
              "      <td>10.789474</td>\n",
              "      <td>0.736842</td>\n",
              "      <td>356.184211</td>\n",
              "      <td>349.844737</td>\n",
              "      <td>16.306842</td>\n",
              "      <td>26.189474</td>\n",
              "      <td>4164.631579</td>\n",
              "      <td>23.625000</td>\n",
              "      <td>42.496316</td>\n",
              "      <td>548</td>\n",
              "    </tr>\n",
              "    <tr>\n",
              "      <th>4</th>\n",
              "      <td>19463</td>\n",
              "      <td>5.10</td>\n",
              "      <td>43.24</td>\n",
              "      <td>4.63</td>\n",
              "      <td>5.26</td>\n",
              "      <td>0.040000</td>\n",
              "      <td>-0.153333</td>\n",
              "      <td>4.69</td>\n",
              "      <td>71.44</td>\n",
              "      <td>3.80</td>\n",
              "      <td>...</td>\n",
              "      <td>14.266667</td>\n",
              "      <td>1.133333</td>\n",
              "      <td>370.904000</td>\n",
              "      <td>367.730000</td>\n",
              "      <td>18.797333</td>\n",
              "      <td>30.812000</td>\n",
              "      <td>4169.800000</td>\n",
              "      <td>12.666667</td>\n",
              "      <td>49.609333</td>\n",
              "      <td>566</td>\n",
              "    </tr>\n",
              "    <tr>\n",
              "      <th>5</th>\n",
              "      <td>30054</td>\n",
              "      <td>27.74</td>\n",
              "      <td>5.12</td>\n",
              "      <td>42.39</td>\n",
              "      <td>5.46</td>\n",
              "      <td>0.076667</td>\n",
              "      <td>-0.020000</td>\n",
              "      <td>45.90</td>\n",
              "      <td>3.99</td>\n",
              "      <td>75.64</td>\n",
              "      <td>...</td>\n",
              "      <td>10.700000</td>\n",
              "      <td>2.150000</td>\n",
              "      <td>350.345500</td>\n",
              "      <td>346.747500</td>\n",
              "      <td>12.878500</td>\n",
              "      <td>19.621000</td>\n",
              "      <td>4151.600000</td>\n",
              "      <td>6.375000</td>\n",
              "      <td>32.499500</td>\n",
              "      <td>544</td>\n",
              "    </tr>\n",
              "    <tr>\n",
              "      <th>6</th>\n",
              "      <td>26431</td>\n",
              "      <td>4.67</td>\n",
              "      <td>5.32</td>\n",
              "      <td>23.99</td>\n",
              "      <td>4.62</td>\n",
              "      <td>0.270000</td>\n",
              "      <td>-0.010000</td>\n",
              "      <td>3.56</td>\n",
              "      <td>4.62</td>\n",
              "      <td>18.57</td>\n",
              "      <td>...</td>\n",
              "      <td>60.304348</td>\n",
              "      <td>1.956522</td>\n",
              "      <td>358.789130</td>\n",
              "      <td>353.025652</td>\n",
              "      <td>17.384783</td>\n",
              "      <td>27.495217</td>\n",
              "      <td>4170.652174</td>\n",
              "      <td>20.500000</td>\n",
              "      <td>44.880000</td>\n",
              "      <td>566</td>\n",
              "    </tr>\n",
              "  </tbody>\n",
              "</table>\n",
              "<p>5 rows × 54 columns</p>\n",
              "</div>\n",
              "      <button class=\"colab-df-convert\" onclick=\"convertToInteractive('df-e96150e3-11cf-4852-80d4-caf8d15c3cd3')\"\n",
              "              title=\"Convert this dataframe to an interactive table.\"\n",
              "              style=\"display:none;\">\n",
              "        \n",
              "  <svg xmlns=\"http://www.w3.org/2000/svg\" height=\"24px\"viewBox=\"0 0 24 24\"\n",
              "       width=\"24px\">\n",
              "    <path d=\"M0 0h24v24H0V0z\" fill=\"none\"/>\n",
              "    <path d=\"M18.56 5.44l.94 2.06.94-2.06 2.06-.94-2.06-.94-.94-2.06-.94 2.06-2.06.94zm-11 1L8.5 8.5l.94-2.06 2.06-.94-2.06-.94L8.5 2.5l-.94 2.06-2.06.94zm10 10l.94 2.06.94-2.06 2.06-.94-2.06-.94-.94-2.06-.94 2.06-2.06.94z\"/><path d=\"M17.41 7.96l-1.37-1.37c-.4-.4-.92-.59-1.43-.59-.52 0-1.04.2-1.43.59L10.3 9.45l-7.72 7.72c-.78.78-.78 2.05 0 2.83L4 21.41c.39.39.9.59 1.41.59.51 0 1.02-.2 1.41-.59l7.78-7.78 2.81-2.81c.8-.78.8-2.07 0-2.86zM5.41 20L4 18.59l7.72-7.72 1.47 1.35L5.41 20z\"/>\n",
              "  </svg>\n",
              "      </button>\n",
              "      \n",
              "  <style>\n",
              "    .colab-df-container {\n",
              "      display:flex;\n",
              "      flex-wrap:wrap;\n",
              "      gap: 12px;\n",
              "    }\n",
              "\n",
              "    .colab-df-convert {\n",
              "      background-color: #E8F0FE;\n",
              "      border: none;\n",
              "      border-radius: 50%;\n",
              "      cursor: pointer;\n",
              "      display: none;\n",
              "      fill: #1967D2;\n",
              "      height: 32px;\n",
              "      padding: 0 0 0 0;\n",
              "      width: 32px;\n",
              "    }\n",
              "\n",
              "    .colab-df-convert:hover {\n",
              "      background-color: #E2EBFA;\n",
              "      box-shadow: 0px 1px 2px rgba(60, 64, 67, 0.3), 0px 1px 3px 1px rgba(60, 64, 67, 0.15);\n",
              "      fill: #174EA6;\n",
              "    }\n",
              "\n",
              "    [theme=dark] .colab-df-convert {\n",
              "      background-color: #3B4455;\n",
              "      fill: #D2E3FC;\n",
              "    }\n",
              "\n",
              "    [theme=dark] .colab-df-convert:hover {\n",
              "      background-color: #434B5C;\n",
              "      box-shadow: 0px 1px 3px 1px rgba(0, 0, 0, 0.15);\n",
              "      filter: drop-shadow(0px 1px 2px rgba(0, 0, 0, 0.3));\n",
              "      fill: #FFFFFF;\n",
              "    }\n",
              "  </style>\n",
              "\n",
              "      <script>\n",
              "        const buttonEl =\n",
              "          document.querySelector('#df-e96150e3-11cf-4852-80d4-caf8d15c3cd3 button.colab-df-convert');\n",
              "        buttonEl.style.display =\n",
              "          google.colab.kernel.accessAllowed ? 'block' : 'none';\n",
              "\n",
              "        async function convertToInteractive(key) {\n",
              "          const element = document.querySelector('#df-e96150e3-11cf-4852-80d4-caf8d15c3cd3');\n",
              "          const dataTable =\n",
              "            await google.colab.kernel.invokeFunction('convertToInteractive',\n",
              "                                                     [key], {});\n",
              "          if (!dataTable) return;\n",
              "\n",
              "          const docLinkHtml = 'Like what you see? Visit the ' +\n",
              "            '<a target=\"_blank\" href=https://colab.research.google.com/notebooks/data_table.ipynb>data table notebook</a>'\n",
              "            + ' to learn more about interactive tables.';\n",
              "          element.innerHTML = '';\n",
              "          dataTable['output_type'] = 'display_data';\n",
              "          await google.colab.output.renderOutput(dataTable, element);\n",
              "          const docLink = document.createElement('div');\n",
              "          docLink.innerHTML = docLinkHtml;\n",
              "          element.appendChild(docLink);\n",
              "        }\n",
              "      </script>\n",
              "    </div>\n",
              "  </div>\n",
              "  "
            ]
          },
          "metadata": {},
          "execution_count": 4
        }
      ],
      "source": [
        "# dropping all rows with any Null values\n",
        "df = df.dropna()\n",
        "df = df.drop(['LastRecord','Date Deployed'], axis = 1)\n",
        "df.head()"
      ]
    },
    {
      "cell_type": "code",
      "execution_count": 5,
      "metadata": {
        "colab": {
          "base_uri": "https://localhost:8080/"
        },
        "id": "o-jevzyduaWd",
        "outputId": "ee420e82-7f20-44e9-dd90-656f1634547e"
      },
      "outputs": [
        {
          "output_type": "execute_result",
          "data": {
            "text/plain": [
              "False"
            ]
          },
          "metadata": {},
          "execution_count": 5
        }
      ],
      "source": [
        "#checking for Null values in the dataframe\n",
        "df.isnull().values.any()"
      ]
    },
    {
      "cell_type": "code",
      "execution_count": 6,
      "metadata": {
        "id": "oslfDGuNzweq"
      },
      "outputs": [],
      "source": [
        "#importing libraries for randomForest \n",
        "from sklearn.ensemble import RandomForestRegressor\n",
        "from sklearn.model_selection import train_test_split\n",
        "\n",
        "\n",
        "\n",
        "#seperating the features from the values we want to predict\n",
        "labels = np.array(df['fail_7'])\n",
        "features= df.drop(['fail_7'], axis = 1)\n",
        "\n",
        "feature_list = list(df.columns)\n",
        "\n",
        "features = np.array(features)\n",
        "\n",
        "# creating a training and testing dataset\n",
        "train_features, test_features, train_labels, test_labels = train_test_split(features, labels, test_size = 0.25, random_state = 42)"
      ]
    },
    {
      "cell_type": "code",
      "execution_count": 7,
      "metadata": {
        "colab": {
          "base_uri": "https://localhost:8080/"
        },
        "id": "2aA5SbyH1SGJ",
        "outputId": "40adc178-4958-4912-a729-bcd8b1bd6c9c"
      },
      "outputs": [
        {
          "output_type": "stream",
          "name": "stdout",
          "text": [
            "Training Features Shape: (25374, 53)\n",
            "Training Labels Shape: (25374,)\n",
            "Testing Features Shape: (8458, 53)\n",
            "Testing Labels Shape: (8458,)\n"
          ]
        }
      ],
      "source": [
        "#printing out the training and testing dataset to see if it worked\n",
        "\n",
        "print('Training Features Shape:', train_features.shape)\n",
        "print('Training Labels Shape:', train_labels.shape)\n",
        "print('Testing Features Shape:', test_features.shape)\n",
        "print('Testing Labels Shape:', test_labels.shape)"
      ]
    },
    {
      "cell_type": "code",
      "execution_count": null,
      "metadata": {
        "id": "QnX3VFzSz4KU"
      },
      "outputs": [],
      "source": [
        "#random forest model with 1000 trees\n",
        "rf = RandomForestRegressor(n_estimators = 1000, random_state = 42)\n",
        "\n",
        "rf.fit(train_features, train_labels)"
      ]
    },
    {
      "cell_type": "code",
      "execution_count": null,
      "metadata": {
        "id": "DYtOgQge_Kr_"
      },
      "outputs": [],
      "source": [
        "predictions = rf.predict(test_features)\n",
        "errors = abs(predictions - test_labels)\n",
        "\n",
        "print('Mean Absolute Error:', round(np.mean(errors), 2), 'degrees.')\n"
      ]
    },
    {
      "cell_type": "code",
      "execution_count": null,
      "metadata": {
        "id": "KVwkXQkD_b3L"
      },
      "outputs": [],
      "source": [
        "mape = 100 * (errors / test_labels)\n",
        "\n",
        "accuracy = 100 - np.mean(mape)\n",
        "\n",
        "print('Accuracy:', round(accuracy, 2), '%.')"
      ]
    },
    {
      "cell_type": "code",
      "execution_count": null,
      "metadata": {
        "id": "088uEHSb_iur"
      },
      "outputs": [],
      "source": [
        "importances = list(rf.feature_importances_)\n",
        "feature_importances = [(feature, round(importance, 2)) for feature, importance in zip(feature_list, importances)]\n",
        "\n",
        "feature_importances = sorted(feature_importances, key = lambda x: x[1], reverse = True)\n",
        "\n",
        "[print('Variable: {:20} Importance: {}'.format(*pair)) for pair in feature_importances];"
      ]
    },
    {
      "cell_type": "code",
      "source": [
        "import matplotlib.pyplot as plt \n",
        "\n",
        "plt.plot(feature_importances)"
      ],
      "metadata": {
        "id": "uxmd5dHHfcyK"
      },
      "execution_count": null,
      "outputs": []
    }
  ],
  "metadata": {
    "colab": {
      "name": "data_competiton_randomForest.ipynb",
      "provenance": []
    },
    "kernelspec": {
      "display_name": "Python 3",
      "name": "python3"
    },
    "language_info": {
      "name": "python"
    }
  },
  "nbformat": 4,
  "nbformat_minor": 0
}