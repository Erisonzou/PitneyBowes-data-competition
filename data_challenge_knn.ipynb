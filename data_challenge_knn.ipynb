{
  "nbformat": 4,
  "nbformat_minor": 0,
  "metadata": {
    "colab": {
      "name": "data_challenge_knn.ipynb",
      "provenance": []
    },
    "kernelspec": {
      "name": "python3",
      "display_name": "Python 3"
    },
    "language_info": {
      "name": "python"
    }
  },
  "cells": [
    {
      "cell_type": "code",
      "execution_count": null,
      "metadata": {
        "id": "RQnnR91KSYxn"
      },
      "outputs": [],
      "source": [
        "#pandas library to create a dataframe out of the csv file\n",
        "import pandas as pd\n",
        "import numpy as np\n",
        "\n",
        "df = pd.read_csv(\"train.csv\")\n",
        "\n",
        "# dropping all rows with any Null values\n",
        "df = df.dropna()\n",
        "df = df.drop(['LastRecord','Date Deployed'], axis = 1)\n",
        "df.head()\n",
        "\n"
      ]
    },
    {
      "cell_type": "code",
      "source": [
        "#value that we are trying to predict\n",
        "labels = np.array(df['fail_7'])\n",
        "\n",
        "#value that will be used to predict that label\n",
        "features= df[['dischargecycles',\"chargecycles\"]]\n",
        "\n",
        "features = np.array(features)"
      ],
      "metadata": {
        "id": "PQPI45zHTmEL"
      },
      "execution_count": null,
      "outputs": []
    },
    {
      "cell_type": "code",
      "source": [
        "from sklearn.model_selection import train_test_split\n",
        "\n",
        "train_features, test_features, train_labels, test_labels = train_test_split(features, labels, test_size = 0.25, random_state = 42)"
      ],
      "metadata": {
        "id": "_Y1mdP2RUJEM"
      },
      "execution_count": null,
      "outputs": []
    },
    {
      "cell_type": "code",
      "source": [
        "from sklearn.neighbors import KNeighborsRegressor\n",
        "\n",
        "knn_model = KNeighborsRegressor(n_neighbors=3)"
      ],
      "metadata": {
        "id": "oglS5Nf3UTzu"
      },
      "execution_count": null,
      "outputs": []
    },
    {
      "cell_type": "code",
      "source": [
        "knn_model.fit(train_features, train_labels)\n"
      ],
      "metadata": {
        "colab": {
          "base_uri": "https://localhost:8080/"
        },
        "id": "b3JlIQCgWj2o",
        "outputId": "1f7da133-4a9f-4443-81e5-708ab94d7186"
      },
      "execution_count": null,
      "outputs": [
        {
          "output_type": "execute_result",
          "data": {
            "text/plain": [
              "KNeighborsRegressor(n_neighbors=3)"
            ]
          },
          "metadata": {},
          "execution_count": 8
        }
      ]
    },
    {
      "cell_type": "code",
      "source": [
        "from sklearn.metrics import mean_squared_error\n",
        "from math import sqrt\n",
        "\n",
        "train_preds = knn_model.predict(train_features)"
      ],
      "metadata": {
        "id": "2a3rTDoAWvtb"
      },
      "execution_count": null,
      "outputs": []
    },
    {
      "cell_type": "code",
      "source": [
        "mse = mean_squared_error(train_labels, train_preds)\n",
        "rmse = sqrt(mse)\n",
        "rmse"
      ],
      "metadata": {
        "colab": {
          "base_uri": "https://localhost:8080/"
        },
        "id": "H6AOl-mza9_Z",
        "outputId": "e8b29f84-750c-48cd-aea0-6dc25c434be4"
      },
      "execution_count": null,
      "outputs": [
        {
          "output_type": "execute_result",
          "data": {
            "text/plain": [
              "0.3445572628195242"
            ]
          },
          "metadata": {},
          "execution_count": 13
        }
      ]
    },
    {
      "cell_type": "markdown",
      "source": [
        "def PKnn(Features,Label):\n",
        "  \n",
        "  import pandas as pd\n",
        "  import numpy as np\n",
        "  from sklearn.model_selection import train_test_split\n",
        "  from sklearn.neighbors import KNeighborsRegressor\n",
        "  from sklearn.metrics import mean_squared_error\n",
        "  from math import sqrt\n",
        "\n",
        "  rslt = 0\n",
        "\n",
        "  for i in Features:\n",
        "    for j in Features:\n",
        "      \n",
        "      if i != j:\n",
        "\n",
        "        C_features= Features[[i,j]]\n",
        "        \n",
        "        C_features = np.array(C_features)\n",
        "\n",
        "        train_features, test_features, train_labels, test_labels = train_test_split(C_features, Label, test_size = 0.25, random_state = 42)\n",
        "\n",
        "        knn_model = KNeighborsRegressor(n_neighbors=3)\n",
        "\n",
        "        knn_model.fit(train_features, train_labels)\n",
        "\n",
        "        train_preds = knn_model.predict(train_features)\n",
        "\n",
        "        mse = mean_squared_error(train_labels, train_preds)\n",
        "      \n",
        "        rmse = np.double(sqrt(mse))\n",
        "\n",
        "        if rmse > .75 :\n",
        "          \n",
        "          rslt+=1\n",
        "\n",
        "  return rslt\n",
        "\n",
        "    "
      ],
      "metadata": {
        "id": "WcbN8g0v7alZ"
      }
    }
  ]
}